{
 "cells": [
  {
   "cell_type": "markdown",
   "metadata": {},
   "source": [
    "<img src=\"http://imgur.com/1ZcRyrc.png\" style=\"float: left; margin: 20px; height: 55px\">\n",
    "\n",
    "# Project 2: Analyzing IMDb Data\n",
    "\n",
    "_Author: Kevin Markham (DC)_\n",
    "\n",
    "---"
   ]
  },
  {
   "cell_type": "markdown",
   "metadata": {},
   "source": [
    "For project two, you will complete a serious of exercises exploring movie rating data from IMDb.\n",
    "\n",
    "For these exercises, you will be conducting basic exploratory data analysis on IMDB's movie data, looking to answer such questions as:\n",
    "\n",
    "What is the average rating per genre?\n",
    "How many different actors are in a movie?\n",
    "\n",
    "This process will help you practice your data analysis skills while becoming comfortable with Pandas."
   ]
  },
  {
   "cell_type": "markdown",
   "metadata": {},
   "source": [
    "## Basic level"
   ]
  },
  {
   "cell_type": "code",
   "execution_count": 2,
   "metadata": {},
   "outputs": [],
   "source": [
    "import pandas as pd\n",
    "import matplotlib.pyplot as plt\n",
    "%matplotlib inline\n",
    "import numpy as np\n",
    "import pandas as pd\n",
    "import seaborn as sns\n",
    "\n",
    "plt.style.use('fivethirtyeight') #sets the styles for matplotlin plots"
   ]
  },
  {
   "cell_type": "markdown",
   "metadata": {},
   "source": [
    "#### Read in 'imdb_1000.csv' and store it in a DataFrame named movies."
   ]
  },
  {
   "cell_type": "code",
   "execution_count": 3,
   "metadata": {},
   "outputs": [
    {
     "data": {
      "text/html": [
       "<div>\n",
       "<style scoped>\n",
       "    .dataframe tbody tr th:only-of-type {\n",
       "        vertical-align: middle;\n",
       "    }\n",
       "\n",
       "    .dataframe tbody tr th {\n",
       "        vertical-align: top;\n",
       "    }\n",
       "\n",
       "    .dataframe thead th {\n",
       "        text-align: right;\n",
       "    }\n",
       "</style>\n",
       "<table border=\"1\" class=\"dataframe\">\n",
       "  <thead>\n",
       "    <tr style=\"text-align: right;\">\n",
       "      <th></th>\n",
       "      <th>star_rating</th>\n",
       "      <th>title</th>\n",
       "      <th>content_rating</th>\n",
       "      <th>genre</th>\n",
       "      <th>duration</th>\n",
       "      <th>actors_list</th>\n",
       "    </tr>\n",
       "  </thead>\n",
       "  <tbody>\n",
       "    <tr>\n",
       "      <th>0</th>\n",
       "      <td>9.3</td>\n",
       "      <td>The Shawshank Redemption</td>\n",
       "      <td>R</td>\n",
       "      <td>Crime</td>\n",
       "      <td>142</td>\n",
       "      <td>[u'Tim Robbins', u'Morgan Freeman', u'Bob Gunt...</td>\n",
       "    </tr>\n",
       "    <tr>\n",
       "      <th>1</th>\n",
       "      <td>9.2</td>\n",
       "      <td>The Godfather</td>\n",
       "      <td>R</td>\n",
       "      <td>Crime</td>\n",
       "      <td>175</td>\n",
       "      <td>[u'Marlon Brando', u'Al Pacino', u'James Caan']</td>\n",
       "    </tr>\n",
       "    <tr>\n",
       "      <th>2</th>\n",
       "      <td>9.1</td>\n",
       "      <td>The Godfather: Part II</td>\n",
       "      <td>R</td>\n",
       "      <td>Crime</td>\n",
       "      <td>200</td>\n",
       "      <td>[u'Al Pacino', u'Robert De Niro', u'Robert Duv...</td>\n",
       "    </tr>\n",
       "    <tr>\n",
       "      <th>3</th>\n",
       "      <td>9.0</td>\n",
       "      <td>The Dark Knight</td>\n",
       "      <td>PG-13</td>\n",
       "      <td>Action</td>\n",
       "      <td>152</td>\n",
       "      <td>[u'Christian Bale', u'Heath Ledger', u'Aaron E...</td>\n",
       "    </tr>\n",
       "    <tr>\n",
       "      <th>4</th>\n",
       "      <td>8.9</td>\n",
       "      <td>Pulp Fiction</td>\n",
       "      <td>R</td>\n",
       "      <td>Crime</td>\n",
       "      <td>154</td>\n",
       "      <td>[u'John Travolta', u'Uma Thurman', u'Samuel L....</td>\n",
       "    </tr>\n",
       "  </tbody>\n",
       "</table>\n",
       "</div>"
      ],
      "text/plain": [
       "   star_rating                     title content_rating   genre  duration  \\\n",
       "0          9.3  The Shawshank Redemption              R   Crime       142   \n",
       "1          9.2             The Godfather              R   Crime       175   \n",
       "2          9.1    The Godfather: Part II              R   Crime       200   \n",
       "3          9.0           The Dark Knight          PG-13  Action       152   \n",
       "4          8.9              Pulp Fiction              R   Crime       154   \n",
       "\n",
       "                                         actors_list  \n",
       "0  [u'Tim Robbins', u'Morgan Freeman', u'Bob Gunt...  \n",
       "1    [u'Marlon Brando', u'Al Pacino', u'James Caan']  \n",
       "2  [u'Al Pacino', u'Robert De Niro', u'Robert Duv...  \n",
       "3  [u'Christian Bale', u'Heath Ledger', u'Aaron E...  \n",
       "4  [u'John Travolta', u'Uma Thurman', u'Samuel L....  "
      ]
     },
     "execution_count": 3,
     "metadata": {},
     "output_type": "execute_result"
    }
   ],
   "source": [
    "movies = pd.read_csv('./data/imdb_1000.csv')\n",
    "movies.head()"
   ]
  },
  {
   "cell_type": "markdown",
   "metadata": {},
   "source": [
    "#### Check the number of rows and columns."
   ]
  },
  {
   "cell_type": "code",
   "execution_count": 4,
   "metadata": {},
   "outputs": [
    {
     "data": {
      "text/plain": [
       "(979, 6)"
      ]
     },
     "execution_count": 4,
     "metadata": {},
     "output_type": "execute_result"
    }
   ],
   "source": [
    "# Answer:\n",
    "movies.shape"
   ]
  },
  {
   "cell_type": "markdown",
   "metadata": {},
   "source": [
    "#### Check the data type of each column."
   ]
  },
  {
   "cell_type": "code",
   "execution_count": 5,
   "metadata": {},
   "outputs": [
    {
     "data": {
      "text/plain": [
       "star_rating       float64\n",
       "title              object\n",
       "content_rating     object\n",
       "genre              object\n",
       "duration            int64\n",
       "actors_list        object\n",
       "dtype: object"
      ]
     },
     "execution_count": 5,
     "metadata": {},
     "output_type": "execute_result"
    }
   ],
   "source": [
    "# Answer:\n",
    "movies.dtypes"
   ]
  },
  {
   "cell_type": "markdown",
   "metadata": {},
   "source": [
    "#### Calculate the average movie duration."
   ]
  },
  {
   "cell_type": "code",
   "execution_count": 6,
   "metadata": {},
   "outputs": [
    {
     "name": "stdout",
     "output_type": "stream",
     "text": [
      "120.97957099080695\n",
      "120.97957099080695\n"
     ]
    }
   ],
   "source": [
    "# Answer:\n",
    "print(movies.duration.mean())\n",
    "print(movies.loc[:,'duration'].mean())"
   ]
  },
  {
   "cell_type": "markdown",
   "metadata": {},
   "source": [
    "#### Sort the DataFrame by duration to find the shortest and longest movies."
   ]
  },
  {
   "cell_type": "code",
   "execution_count": 7,
   "metadata": {},
   "outputs": [
    {
     "name": "stdout",
     "output_type": "stream",
     "text": [
      "********shortest movie is       star_rating   title content_rating  genre  duration  \\\n",
      "389          8.0  Freaks        UNRATED  Drama        64   \n",
      "\n",
      "                                           actors_list  \n",
      "389  [u'Wallace Ford', u'Leila Hyams', u'Olga Bacla...  \n",
      "********longest movie is       star_rating   title content_rating  genre  duration  \\\n",
      "476          7.8  Hamlet          PG-13  Drama       242   \n",
      "\n",
      "                                           actors_list  \n",
      "476  [u'Kenneth Branagh', u'Julie Christie', u'Dere...  \n"
     ]
    }
   ],
   "source": [
    "# Answer:\n",
    "movies.sort_values(by='duration',inplace=True,ascending=True)\n",
    "print(\"********shortest movie is \",movies.head(1))\n",
    "movies.sort_values(by='duration',inplace=True,ascending=False)\n",
    "print(\"********longest movie is \",movies.head(1))\n"
   ]
  },
  {
   "cell_type": "markdown",
   "metadata": {},
   "source": [
    "#### Create a histogram of duration, choosing an \"appropriate\" number of bins."
   ]
  },
  {
   "cell_type": "code",
   "execution_count": 8,
   "metadata": {},
   "outputs": [
    {
     "data": {
      "image/png": "[encoded data removed]",
      "text/plain": [
       "<Figure size 432x288 with 1 Axes>"
      ]
     },
     "metadata": {},
     "output_type": "display_data"
    }
   ],
   "source": [
    "# Answer:\n",
    "ax = movies.hist(column='duration',bins=6)\n"
   ]
  },
  {
   "cell_type": "markdown",
   "metadata": {},
   "source": [
    "#### Use a box plot to display that same data."
   ]
  },
  {
   "cell_type": "code",
   "execution_count": 9,
   "metadata": {},
   "outputs": [
    {
     "data": {
      "image/png": "[encoded data removed]",
      "text/plain": [
       "<Figure size 432x288 with 1 Axes>"
      ]
     },
     "metadata": {},
     "output_type": "display_data"
    }
   ],
   "source": [
    "# Answer:\n",
    "ax = movies.boxplot(column='duration')"
   ]
  },
  {
   "cell_type": "markdown",
   "metadata": {},
   "source": [
    "## Intermediate level"
   ]
  },
  {
   "cell_type": "markdown",
   "metadata": {},
   "source": [
    "#### Count how many movies have each of the content ratings."
   ]
  },
  {
   "cell_type": "code",
   "execution_count": 10,
   "metadata": {},
   "outputs": [
    {
     "data": {
      "text/plain": [
       "R            460\n",
       "PG-13        189\n",
       "PG           123\n",
       "NOT RATED     65\n",
       "APPROVED      47\n",
       "UNRATED       38\n",
       "G             32\n",
       "NC-17          7\n",
       "PASSED         7\n",
       "X              4\n",
       "GP             3\n",
       "TV-MA          1\n",
       "Name: content_rating, dtype: int64"
      ]
     },
     "execution_count": 10,
     "metadata": {},
     "output_type": "execute_result"
    }
   ],
   "source": [
    "# Answer:\n",
    "movies.loc[:,'content_rating'].value_counts()"
   ]
  },
  {
   "cell_type": "markdown",
   "metadata": {},
   "source": [
    "#### Use a visualization to display that same data, including a title and x and y labels."
   ]
  },
  {
   "cell_type": "code",
   "execution_count": 76,
   "metadata": {},
   "outputs": [
    {
     "data": {
      "image/png": "[encoded data removed]",
      "text/plain": [
       "<Figure size 432x288 with 1 Axes>"
      ]
     },
     "metadata": {},
     "output_type": "display_data"
    }
   ],
   "source": [
    "# Answer:\n",
    "ax = movies.loc[:,'content_rating'].value_counts().plot(kind='barh')\n",
    "ax.set_xlabel('Content Rating')\n",
    "ax.set_ylabel('Counts')\n",
    "ax.set_title('Count per content rating');"
   ]
  },
  {
   "cell_type": "markdown",
   "metadata": {},
   "source": [
    "#### Convert the following content ratings to \"UNRATED\": NOT RATED, APPROVED, PASSED, GP."
   ]
  },
  {
   "cell_type": "code",
   "execution_count": 35,
   "metadata": {},
   "outputs": [
    {
     "data": {
      "text/plain": [
       "R          460\n",
       "PG-13      189\n",
       "PG         123\n",
       "UNRATED    122\n",
       "G           32\n",
       "NC-17        7\n",
       "X            4\n",
       "TV-MA        1\n",
       "Name: content_rating, dtype: int64"
      ]
     },
     "execution_count": 35,
     "metadata": {},
     "output_type": "execute_result"
    }
   ],
   "source": [
    "# Answer:\"UNRATED\": NOT RATED, APPROVED, PASSED, GP\n",
    "movies.loc[:,'content_rating'].map(\n",
    "    {'NOT RATED':'UNRATED','APPROVED':'UNRATED','PASSED':'UNRATED','GP':'UNRATED','R':'R',\n",
    "    'PG-13':'PG-13','PG':'PG','G':'G','NC-17':'NC-17','X':'X','TV-MA':'TV-MA'}\n",
    ").value_counts()"
   ]
  },
  {
   "cell_type": "markdown",
   "metadata": {},
   "source": [
    "#### Convert the following content ratings to \"NC-17\": X, TV-MA."
   ]
  },
  {
   "cell_type": "code",
   "execution_count": 36,
   "metadata": {},
   "outputs": [
    {
     "data": {
      "text/plain": [
       "R          460\n",
       "PG-13      189\n",
       "PG         123\n",
       "UNRATED    122\n",
       "G           32\n",
       "NC-17       12\n",
       "Name: content_rating, dtype: int64"
      ]
     },
     "execution_count": 36,
     "metadata": {},
     "output_type": "execute_result"
    }
   ],
   "source": [
    "# Answer:\n",
    "movies.loc[:,'content_rating'].map(\n",
    "    {'NOT RATED':'UNRATED','APPROVED':'UNRATED','PASSED':'UNRATED','GP':'UNRATED','R':'R',\n",
    "    'PG-13':'PG-13','PG':'PG','G':'G','NC-17':'NC-17','X':'NC-17','TV-MA':'NC-17'}\n",
    ").value_counts()"
   ]
  },
  {
   "cell_type": "markdown",
   "metadata": {},
   "source": [
    "#### Count the number of missing values in each column."
   ]
  },
  {
   "cell_type": "code",
   "execution_count": 37,
   "metadata": {},
   "outputs": [
    {
     "data": {
      "text/plain": [
       "star_rating       0\n",
       "title             0\n",
       "content_rating    3\n",
       "genre             0\n",
       "duration          0\n",
       "actors_list       0\n",
       "dtype: int64"
      ]
     },
     "execution_count": 37,
     "metadata": {},
     "output_type": "execute_result"
    }
   ],
   "source": [
    "# Answer:\n",
    "movies.isnull().sum()"
   ]
  },
  {
   "cell_type": "markdown",
   "metadata": {},
   "source": [
    "#### If there are missing values: examine them, then fill them in with \"reasonable\" values."
   ]
  },
  {
   "cell_type": "code",
   "execution_count": 38,
   "metadata": {},
   "outputs": [
    {
     "name": "stdout",
     "output_type": "stream",
     "text": [
      "R            460\n",
      "PG-13        189\n",
      "PG           123\n",
      "NOT RATED     65\n",
      "APPROVED      47\n",
      "UNRATED       38\n",
      "G             32\n",
      "NC-17          7\n",
      "PASSED         7\n",
      "X              4\n",
      "GP             3\n",
      "NaN            3\n",
      "TV-MA          1\n",
      "Name: content_rating, dtype: int64\n"
     ]
    },
    {
     "data": {
      "text/plain": [
       "R            460\n",
       "PG-13        189\n",
       "PG           123\n",
       "NOT RATED     65\n",
       "APPROVED      47\n",
       "UNRATED       38\n",
       "G             32\n",
       "NC-17          7\n",
       "PASSED         7\n",
       "X              4\n",
       "GP             3\n",
       "NA             3\n",
       "TV-MA          1\n",
       "Name: content_rating, dtype: int64"
      ]
     },
     "execution_count": 38,
     "metadata": {},
     "output_type": "execute_result"
    }
   ],
   "source": [
    "# Answer:\n",
    "print(movies.loc[:,'content_rating'].value_counts(dropna=False))\n",
    "movies.isnull().sum()\n",
    "movies.loc[:,'content_rating'].fillna(value='NA').value_counts()"
   ]
  },
  {
   "cell_type": "markdown",
   "metadata": {},
   "source": [
    "#### Calculate the average star rating for movies 2 hours or longer, and compare that with the average star rating for movies shorter than 2 hours."
   ]
  },
  {
   "cell_type": "code",
   "execution_count": 39,
   "metadata": {},
   "outputs": [
    {
     "name": "stdout",
     "output_type": "stream",
     "text": [
      "7.948898678414094\n",
      "7.838666666666657\n",
      "Average Star Rating of movies 2 hours or longer is more than average star rating of movies shorter than 2 hours\n"
     ]
    }
   ],
   "source": [
    "# Answer:\n",
    "avg_more = movies.loc[movies.loc[:,'duration']>=120,'star_rating'].mean()\n",
    "avg_less =movies.loc[movies.loc[:,'duration']<120,'star_rating'].mean()\n",
    "\n",
    "print(avg_more)\n",
    "print(avg_less)\n",
    "\n",
    "if avg_more>avg_less:\n",
    "    print('Average Star Rating of movies 2 hours or longer is more than average star rating of movies shorter than 2 hours')\n",
    "elif avg_more<avg_less:\n",
    "    print('Average Star Rating of movies 2 hours or longer is less than average star rating of movies shorter than 2 hours')\n",
    "else:\n",
    "    print('Average Star Rating of movies 2 hours or longer is same as average star rating of movies shorter than 2 hours')"
   ]
  },
  {
   "cell_type": "markdown",
   "metadata": {},
   "source": [
    "#### Use a visualization to detect whether there is a relationship between duration and star rating."
   ]
  },
  {
   "cell_type": "code",
   "execution_count": 58,
   "metadata": {},
   "outputs": [
    {
     "data": {
      "image/png": "[encoded data removed]",
      "text/plain": [
       "<Figure size 1008x720 with 1 Axes>"
      ]
     },
     "metadata": {},
     "output_type": "display_data"
    }
   ],
   "source": [
    "# Answer:\n",
    "\n",
    "ax = movies.plot(kind='scatter', x='star_rating',y='duration',figsize=(14,10),alpha=0.3)\n"
   ]
  },
  {
   "cell_type": "markdown",
   "metadata": {},
   "source": [
    "Observation\n",
    "-  movies with high star_rating are not the longest duration\n",
    "- movies with longer duration have lower star_rating"
   ]
  },
  {
   "cell_type": "markdown",
   "metadata": {},
   "source": [
    "#### Calculate the average duration for each genre."
   ]
  },
  {
   "cell_type": "code",
   "execution_count": 49,
   "metadata": {},
   "outputs": [
    {
     "data": {
      "text/plain": [
       "genre\n",
       "Action       126.485294\n",
       "Adventure    134.840000\n",
       "Animation     96.596774\n",
       "Biography    131.844156\n",
       "Comedy       107.602564\n",
       "Crime        122.298387\n",
       "Drama        126.539568\n",
       "Family       107.500000\n",
       "Fantasy      112.000000\n",
       "Film-Noir     97.333333\n",
       "History       66.000000\n",
       "Horror       102.517241\n",
       "Mystery      115.625000\n",
       "Sci-Fi       109.000000\n",
       "Thriller     114.200000\n",
       "Western      136.666667\n",
       "Name: duration, dtype: float64"
      ]
     },
     "execution_count": 49,
     "metadata": {},
     "output_type": "execute_result"
    }
   ],
   "source": [
    "# Answer:\n",
    "movies.groupby('genre')['duration'].mean()"
   ]
  },
  {
   "cell_type": "markdown",
   "metadata": {},
   "source": [
    "## Advanced level"
   ]
  },
  {
   "cell_type": "markdown",
   "metadata": {},
   "source": [
    "#### Visualize the relationship between content rating and duration."
   ]
  },
  {
   "cell_type": "code",
   "execution_count": 64,
   "metadata": {},
   "outputs": [
    {
     "data": {
      "image/png": "[encoded data removed]",
      "text/plain": [
       "<Figure size 1008x432 with 1 Axes>"
      ]
     },
     "metadata": {},
     "output_type": "display_data"
    }
   ],
   "source": [
    "# Answer:\n",
    "ax1 = movies.boxplot(column='duration', by='content_rating', figsize=(14,6))"
   ]
  },
  {
   "cell_type": "markdown",
   "metadata": {},
   "source": [
    "#### Determine the top rated movie (by star rating) for each genre."
   ]
  },
  {
   "cell_type": "code",
   "execution_count": 73,
   "metadata": {},
   "outputs": [
    {
     "name": "stdout",
     "output_type": "stream",
     "text": [
      "           max\n",
      "genre         \n",
      "Action     9.0\n",
      "Adventure  8.9\n",
      "Animation  8.6\n",
      "Biography  8.9\n",
      "Comedy     8.6\n",
      "Crime      9.3\n",
      "Drama      8.9\n",
      "Family     7.9\n",
      "Fantasy    7.7\n",
      "Film-Noir  8.3\n",
      "History    8.0\n",
      "Horror     8.6\n",
      "Mystery    8.6\n",
      "Sci-Fi     8.2\n",
      "Thriller   8.0\n",
      "Western    8.9\n"
     ]
    },
    {
     "data": {
      "text/html": [
       "<div>\n",
       "<style scoped>\n",
       "    .dataframe tbody tr th:only-of-type {\n",
       "        vertical-align: middle;\n",
       "    }\n",
       "\n",
       "    .dataframe tbody tr th {\n",
       "        vertical-align: top;\n",
       "    }\n",
       "\n",
       "    .dataframe thead th {\n",
       "        text-align: right;\n",
       "    }\n",
       "</style>\n",
       "<table border=\"1\" class=\"dataframe\">\n",
       "  <thead>\n",
       "    <tr style=\"text-align: right;\">\n",
       "      <th></th>\n",
       "      <th>star_rating</th>\n",
       "      <th>title</th>\n",
       "      <th>content_rating</th>\n",
       "      <th>genre</th>\n",
       "      <th>duration</th>\n",
       "      <th>actors_list</th>\n",
       "      <th>max</th>\n",
       "      <th>high_rated</th>\n",
       "    </tr>\n",
       "  </thead>\n",
       "  <tbody>\n",
       "    <tr>\n",
       "      <th>9</th>\n",
       "      <td>8.9</td>\n",
       "      <td>Fight Club</td>\n",
       "      <td>R</td>\n",
       "      <td>Drama</td>\n",
       "      <td>139</td>\n",
       "      <td>[u'Brad Pitt', u'Edward Norton', u'Helena Bonh...</td>\n",
       "      <td>8.9</td>\n",
       "      <td>True</td>\n",
       "    </tr>\n",
       "    <tr>\n",
       "      <th>5</th>\n",
       "      <td>8.9</td>\n",
       "      <td>12 Angry Men</td>\n",
       "      <td>NOT RATED</td>\n",
       "      <td>Drama</td>\n",
       "      <td>96</td>\n",
       "      <td>[u'Henry Fonda', u'Lee J. Cobb', u'Martin Bals...</td>\n",
       "      <td>8.9</td>\n",
       "      <td>True</td>\n",
       "    </tr>\n",
       "    <tr>\n",
       "      <th>0</th>\n",
       "      <td>9.3</td>\n",
       "      <td>The Shawshank Redemption</td>\n",
       "      <td>R</td>\n",
       "      <td>Crime</td>\n",
       "      <td>142</td>\n",
       "      <td>[u'Tim Robbins', u'Morgan Freeman', u'Bob Gunt...</td>\n",
       "      <td>9.3</td>\n",
       "      <td>True</td>\n",
       "    </tr>\n",
       "    <tr>\n",
       "      <th>7</th>\n",
       "      <td>8.9</td>\n",
       "      <td>The Lord of the Rings: The Return of the King</td>\n",
       "      <td>PG-13</td>\n",
       "      <td>Adventure</td>\n",
       "      <td>201</td>\n",
       "      <td>[u'Elijah Wood', u'Viggo Mortensen', u'Ian McK...</td>\n",
       "      <td>8.9</td>\n",
       "      <td>True</td>\n",
       "    </tr>\n",
       "    <tr>\n",
       "      <th>3</th>\n",
       "      <td>9.0</td>\n",
       "      <td>The Dark Knight</td>\n",
       "      <td>PG-13</td>\n",
       "      <td>Action</td>\n",
       "      <td>152</td>\n",
       "      <td>[u'Christian Bale', u'Heath Ledger', u'Aaron E...</td>\n",
       "      <td>9.0</td>\n",
       "      <td>True</td>\n",
       "    </tr>\n",
       "    <tr>\n",
       "      <th>8</th>\n",
       "      <td>8.9</td>\n",
       "      <td>Schindler's List</td>\n",
       "      <td>R</td>\n",
       "      <td>Biography</td>\n",
       "      <td>195</td>\n",
       "      <td>[u'Liam Neeson', u'Ralph Fiennes', u'Ben Kings...</td>\n",
       "      <td>8.9</td>\n",
       "      <td>True</td>\n",
       "    </tr>\n",
       "    <tr>\n",
       "      <th>25</th>\n",
       "      <td>8.6</td>\n",
       "      <td>Life Is Beautiful</td>\n",
       "      <td>PG-13</td>\n",
       "      <td>Comedy</td>\n",
       "      <td>116</td>\n",
       "      <td>[u'Roberto Benigni', u'Nicoletta Braschi', u'G...</td>\n",
       "      <td>8.6</td>\n",
       "      <td>True</td>\n",
       "    </tr>\n",
       "    <tr>\n",
       "      <th>29</th>\n",
       "      <td>8.6</td>\n",
       "      <td>City Lights</td>\n",
       "      <td>PASSED</td>\n",
       "      <td>Comedy</td>\n",
       "      <td>87</td>\n",
       "      <td>[u'Charles Chaplin', u'Virginia Cherrill', u'F...</td>\n",
       "      <td>8.6</td>\n",
       "      <td>True</td>\n",
       "    </tr>\n",
       "    <tr>\n",
       "      <th>35</th>\n",
       "      <td>8.6</td>\n",
       "      <td>Modern Times</td>\n",
       "      <td>G</td>\n",
       "      <td>Comedy</td>\n",
       "      <td>87</td>\n",
       "      <td>[u'Charles Chaplin', u'Paulette Goddard', u'He...</td>\n",
       "      <td>8.6</td>\n",
       "      <td>True</td>\n",
       "    </tr>\n",
       "    <tr>\n",
       "      <th>6</th>\n",
       "      <td>8.9</td>\n",
       "      <td>The Good, the Bad and the Ugly</td>\n",
       "      <td>NOT RATED</td>\n",
       "      <td>Western</td>\n",
       "      <td>161</td>\n",
       "      <td>[u'Clint Eastwood', u'Eli Wallach', u'Lee Van ...</td>\n",
       "      <td>8.9</td>\n",
       "      <td>True</td>\n",
       "    </tr>\n",
       "    <tr>\n",
       "      <th>38</th>\n",
       "      <td>8.6</td>\n",
       "      <td>Rear Window</td>\n",
       "      <td>APPROVED</td>\n",
       "      <td>Mystery</td>\n",
       "      <td>112</td>\n",
       "      <td>[u'James Stewart', u'Grace Kelly', u'Wendell C...</td>\n",
       "      <td>8.6</td>\n",
       "      <td>True</td>\n",
       "    </tr>\n",
       "    <tr>\n",
       "      <th>39</th>\n",
       "      <td>8.6</td>\n",
       "      <td>Psycho</td>\n",
       "      <td>R</td>\n",
       "      <td>Horror</td>\n",
       "      <td>109</td>\n",
       "      <td>[u'Anthony Perkins', u'Janet Leigh', u'Vera Mi...</td>\n",
       "      <td>8.6</td>\n",
       "      <td>True</td>\n",
       "    </tr>\n",
       "    <tr>\n",
       "      <th>30</th>\n",
       "      <td>8.6</td>\n",
       "      <td>Spirited Away</td>\n",
       "      <td>PG</td>\n",
       "      <td>Animation</td>\n",
       "      <td>125</td>\n",
       "      <td>[u'Daveigh Chase', u'Suzanne Pleshette', u'Miy...</td>\n",
       "      <td>8.6</td>\n",
       "      <td>True</td>\n",
       "    </tr>\n",
       "    <tr>\n",
       "      <th>145</th>\n",
       "      <td>8.2</td>\n",
       "      <td>Blade Runner</td>\n",
       "      <td>R</td>\n",
       "      <td>Sci-Fi</td>\n",
       "      <td>117</td>\n",
       "      <td>[u'Harrison Ford', u'Rutger Hauer', u'Sean You...</td>\n",
       "      <td>8.2</td>\n",
       "      <td>True</td>\n",
       "    </tr>\n",
       "    <tr>\n",
       "      <th>350</th>\n",
       "      <td>8.0</td>\n",
       "      <td>Shadow of a Doubt</td>\n",
       "      <td>APPROVED</td>\n",
       "      <td>Thriller</td>\n",
       "      <td>108</td>\n",
       "      <td>[u'Teresa Wright', u'Joseph Cotten', u'Macdona...</td>\n",
       "      <td>8.0</td>\n",
       "      <td>True</td>\n",
       "    </tr>\n",
       "    <tr>\n",
       "      <th>468</th>\n",
       "      <td>7.9</td>\n",
       "      <td>E.T. the Extra-Terrestrial</td>\n",
       "      <td>PG</td>\n",
       "      <td>Family</td>\n",
       "      <td>115</td>\n",
       "      <td>[u'Henry Thomas', u'Drew Barrymore', u'Peter C...</td>\n",
       "      <td>7.9</td>\n",
       "      <td>True</td>\n",
       "    </tr>\n",
       "    <tr>\n",
       "      <th>638</th>\n",
       "      <td>7.7</td>\n",
       "      <td>The City of Lost Children</td>\n",
       "      <td>R</td>\n",
       "      <td>Fantasy</td>\n",
       "      <td>112</td>\n",
       "      <td>[u'Ron Perlman', u'Daniel Emilfork', u'Judith ...</td>\n",
       "      <td>7.7</td>\n",
       "      <td>True</td>\n",
       "    </tr>\n",
       "    <tr>\n",
       "      <th>105</th>\n",
       "      <td>8.3</td>\n",
       "      <td>The Third Man</td>\n",
       "      <td>NOT RATED</td>\n",
       "      <td>Film-Noir</td>\n",
       "      <td>93</td>\n",
       "      <td>[u'Orson Welles', u'Joseph Cotten', u'Alida Va...</td>\n",
       "      <td>8.3</td>\n",
       "      <td>True</td>\n",
       "    </tr>\n",
       "    <tr>\n",
       "      <th>338</th>\n",
       "      <td>8.0</td>\n",
       "      <td>Battleship Potemkin</td>\n",
       "      <td>UNRATED</td>\n",
       "      <td>History</td>\n",
       "      <td>66</td>\n",
       "      <td>[u'Aleksandr Antonov', u'Vladimir Barsky', u'G...</td>\n",
       "      <td>8.0</td>\n",
       "      <td>True</td>\n",
       "    </tr>\n",
       "  </tbody>\n",
       "</table>\n",
       "</div>"
      ],
      "text/plain": [
       "     star_rating                                          title  \\\n",
       "9            8.9                                     Fight Club   \n",
       "5            8.9                                   12 Angry Men   \n",
       "0            9.3                       The Shawshank Redemption   \n",
       "7            8.9  The Lord of the Rings: The Return of the King   \n",
       "3            9.0                                The Dark Knight   \n",
       "8            8.9                               Schindler's List   \n",
       "25           8.6                              Life Is Beautiful   \n",
       "29           8.6                                    City Lights   \n",
       "35           8.6                                   Modern Times   \n",
       "6            8.9                 The Good, the Bad and the Ugly   \n",
       "38           8.6                                    Rear Window   \n",
       "39           8.6                                         Psycho   \n",
       "30           8.6                                  Spirited Away   \n",
       "145          8.2                                   Blade Runner   \n",
       "350          8.0                              Shadow of a Doubt   \n",
       "468          7.9                     E.T. the Extra-Terrestrial   \n",
       "638          7.7                      The City of Lost Children   \n",
       "105          8.3                                  The Third Man   \n",
       "338          8.0                            Battleship Potemkin   \n",
       "\n",
       "    content_rating      genre  duration  \\\n",
       "9                R      Drama       139   \n",
       "5        NOT RATED      Drama        96   \n",
       "0                R      Crime       142   \n",
       "7            PG-13  Adventure       201   \n",
       "3            PG-13     Action       152   \n",
       "8                R  Biography       195   \n",
       "25           PG-13     Comedy       116   \n",
       "29          PASSED     Comedy        87   \n",
       "35               G     Comedy        87   \n",
       "6        NOT RATED    Western       161   \n",
       "38        APPROVED    Mystery       112   \n",
       "39               R     Horror       109   \n",
       "30              PG  Animation       125   \n",
       "145              R     Sci-Fi       117   \n",
       "350       APPROVED   Thriller       108   \n",
       "468             PG     Family       115   \n",
       "638              R    Fantasy       112   \n",
       "105      NOT RATED  Film-Noir        93   \n",
       "338        UNRATED    History        66   \n",
       "\n",
       "                                           actors_list  max  high_rated  \n",
       "9    [u'Brad Pitt', u'Edward Norton', u'Helena Bonh...  8.9        True  \n",
       "5    [u'Henry Fonda', u'Lee J. Cobb', u'Martin Bals...  8.9        True  \n",
       "0    [u'Tim Robbins', u'Morgan Freeman', u'Bob Gunt...  9.3        True  \n",
       "7    [u'Elijah Wood', u'Viggo Mortensen', u'Ian McK...  8.9        True  \n",
       "3    [u'Christian Bale', u'Heath Ledger', u'Aaron E...  9.0        True  \n",
       "8    [u'Liam Neeson', u'Ralph Fiennes', u'Ben Kings...  8.9        True  \n",
       "25   [u'Roberto Benigni', u'Nicoletta Braschi', u'G...  8.6        True  \n",
       "29   [u'Charles Chaplin', u'Virginia Cherrill', u'F...  8.6        True  \n",
       "35   [u'Charles Chaplin', u'Paulette Goddard', u'He...  8.6        True  \n",
       "6    [u'Clint Eastwood', u'Eli Wallach', u'Lee Van ...  8.9        True  \n",
       "38   [u'James Stewart', u'Grace Kelly', u'Wendell C...  8.6        True  \n",
       "39   [u'Anthony Perkins', u'Janet Leigh', u'Vera Mi...  8.6        True  \n",
       "30   [u'Daveigh Chase', u'Suzanne Pleshette', u'Miy...  8.6        True  \n",
       "145  [u'Harrison Ford', u'Rutger Hauer', u'Sean You...  8.2        True  \n",
       "350  [u'Teresa Wright', u'Joseph Cotten', u'Macdona...  8.0        True  \n",
       "468  [u'Henry Thomas', u'Drew Barrymore', u'Peter C...  7.9        True  \n",
       "638  [u'Ron Perlman', u'Daniel Emilfork', u'Judith ...  7.7        True  \n",
       "105  [u'Orson Welles', u'Joseph Cotten', u'Alida Va...  8.3        True  \n",
       "338  [u'Aleksandr Antonov', u'Vladimir Barsky', u'G...  8.0        True  "
      ]
     },
     "execution_count": 73,
     "metadata": {},
     "output_type": "execute_result"
    }
   ],
   "source": [
    "# Answer:\n",
    "#we will find out the top rated per genre using the 'max' aggregate function on the star_rating column\n",
    "# this itself is a data frame with genre as the index\n",
    "rating_df = movies.groupby('genre')['star_rating'].agg(['max'])\n",
    "print(rating_df)\n",
    "#we can possibly do a join on the genre column with movies data frame and above data frame \n",
    "#to list the movies that are top rated in that genre\n",
    "new_df = movies.join(rating_df, on='genre', how='right')\n",
    "#we will create a new column called high_rated to match all the movies which have star_rating same as max star_rating\n",
    "new_df.loc[:,'high_rated'] = new_df.apply(lambda row:row.loc['star_rating']==row.loc['max'], axis='columns')\n",
    "#we get the movies list by filtering the high_rated boolean columns\n",
    "new_df.loc[new_df.loc[:,'high_rated']==True,:]"
   ]
  },
  {
   "cell_type": "code",
   "execution_count": 82,
   "metadata": {},
   "outputs": [
    {
     "data": {
      "text/html": [
       "<div>\n",
       "<style scoped>\n",
       "    .dataframe tbody tr th:only-of-type {\n",
       "        vertical-align: middle;\n",
       "    }\n",
       "\n",
       "    .dataframe tbody tr th {\n",
       "        vertical-align: top;\n",
       "    }\n",
       "\n",
       "    .dataframe thead th {\n",
       "        text-align: right;\n",
       "    }\n",
       "</style>\n",
       "<table border=\"1\" class=\"dataframe\">\n",
       "  <thead>\n",
       "    <tr style=\"text-align: right;\">\n",
       "      <th></th>\n",
       "      <th>star_rating</th>\n",
       "      <th>title</th>\n",
       "      <th>content_rating</th>\n",
       "      <th>genre</th>\n",
       "      <th>duration</th>\n",
       "      <th>actors_list</th>\n",
       "    </tr>\n",
       "  </thead>\n",
       "  <tbody>\n",
       "    <tr>\n",
       "      <th>338</th>\n",
       "      <td>8.0</td>\n",
       "      <td>Battleship Potemkin</td>\n",
       "      <td>UNRATED</td>\n",
       "      <td>History</td>\n",
       "      <td>66</td>\n",
       "      <td>[u'Aleksandr Antonov', u'Vladimir Barsky', u'G...</td>\n",
       "    </tr>\n",
       "  </tbody>\n",
       "</table>\n",
       "</div>"
      ],
      "text/plain": [
       "     star_rating                title content_rating    genre  duration  \\\n",
       "338          8.0  Battleship Potemkin        UNRATED  History        66   \n",
       "\n",
       "                                           actors_list  \n",
       "338  [u'Aleksandr Antonov', u'Vladimir Barsky', u'G...  "
      ]
     },
     "execution_count": 82,
     "metadata": {},
     "output_type": "execute_result"
    }
   ],
   "source": [
    "# to check the results\n",
    "movies.loc[movies.loc[:,'genre']=='History',:].sort_values('star_rating', ascending=False)"
   ]
  },
  {
   "cell_type": "markdown",
   "metadata": {},
   "source": [
    "#### Check if there are multiple movies with the same title, and if so, determine if they are actually duplicates."
   ]
  },
  {
   "cell_type": "code",
   "execution_count": 66,
   "metadata": {},
   "outputs": [
    {
     "data": {
      "text/html": [
       "<div>\n",
       "<style scoped>\n",
       "    .dataframe tbody tr th:only-of-type {\n",
       "        vertical-align: middle;\n",
       "    }\n",
       "\n",
       "    .dataframe tbody tr th {\n",
       "        vertical-align: top;\n",
       "    }\n",
       "\n",
       "    .dataframe thead th {\n",
       "        text-align: right;\n",
       "    }\n",
       "</style>\n",
       "<table border=\"1\" class=\"dataframe\">\n",
       "  <thead>\n",
       "    <tr style=\"text-align: right;\">\n",
       "      <th></th>\n",
       "      <th>star_rating_movies</th>\n",
       "      <th>title</th>\n",
       "      <th>content_rating_movies</th>\n",
       "      <th>genre_movies</th>\n",
       "      <th>duration_movies</th>\n",
       "      <th>actors_list_movies</th>\n",
       "      <th>star_rating_dupl</th>\n",
       "      <th>content_rating_dupl</th>\n",
       "      <th>genre_dupl</th>\n",
       "      <th>duration_dupl</th>\n",
       "      <th>actors_list_dupl</th>\n",
       "    </tr>\n",
       "  </thead>\n",
       "  <tbody>\n",
       "    <tr>\n",
       "      <th>678</th>\n",
       "      <td>7.7</td>\n",
       "      <td>Les Miserables</td>\n",
       "      <td>PG-13</td>\n",
       "      <td>Drama</td>\n",
       "      <td>158</td>\n",
       "      <td>[u'Hugh Jackman', u'Russell Crowe', u'Anne Hat...</td>\n",
       "      <td>7.5</td>\n",
       "      <td>PG-13</td>\n",
       "      <td>Crime</td>\n",
       "      <td>134</td>\n",
       "      <td>[u'Liam Neeson', u'Geoffrey Rush', u'Uma Thurm...</td>\n",
       "    </tr>\n",
       "    <tr>\n",
       "      <th>924</th>\n",
       "      <td>7.5</td>\n",
       "      <td>Les Miserables</td>\n",
       "      <td>PG-13</td>\n",
       "      <td>Crime</td>\n",
       "      <td>134</td>\n",
       "      <td>[u'Liam Neeson', u'Geoffrey Rush', u'Uma Thurm...</td>\n",
       "      <td>7.5</td>\n",
       "      <td>PG-13</td>\n",
       "      <td>Crime</td>\n",
       "      <td>134</td>\n",
       "      <td>[u'Liam Neeson', u'Geoffrey Rush', u'Uma Thurm...</td>\n",
       "    </tr>\n",
       "    <tr>\n",
       "      <th>466</th>\n",
       "      <td>7.9</td>\n",
       "      <td>The Girl with the Dragon Tattoo</td>\n",
       "      <td>R</td>\n",
       "      <td>Crime</td>\n",
       "      <td>158</td>\n",
       "      <td>[u'Daniel Craig', u'Rooney Mara', u'Christophe...</td>\n",
       "      <td>7.8</td>\n",
       "      <td>R</td>\n",
       "      <td>Crime</td>\n",
       "      <td>152</td>\n",
       "      <td>[u'Michael Nyqvist', u'Noomi Rapace', u'Ewa Fr...</td>\n",
       "    </tr>\n",
       "    <tr>\n",
       "      <th>482</th>\n",
       "      <td>7.8</td>\n",
       "      <td>The Girl with the Dragon Tattoo</td>\n",
       "      <td>R</td>\n",
       "      <td>Crime</td>\n",
       "      <td>152</td>\n",
       "      <td>[u'Michael Nyqvist', u'Noomi Rapace', u'Ewa Fr...</td>\n",
       "      <td>7.8</td>\n",
       "      <td>R</td>\n",
       "      <td>Crime</td>\n",
       "      <td>152</td>\n",
       "      <td>[u'Michael Nyqvist', u'Noomi Rapace', u'Ewa Fr...</td>\n",
       "    </tr>\n",
       "    <tr>\n",
       "      <th>936</th>\n",
       "      <td>7.4</td>\n",
       "      <td>True Grit</td>\n",
       "      <td>NaN</td>\n",
       "      <td>Adventure</td>\n",
       "      <td>128</td>\n",
       "      <td>[u'John Wayne', u'Kim Darby', u'Glen Campbell']</td>\n",
       "      <td>7.7</td>\n",
       "      <td>PG-13</td>\n",
       "      <td>Adventure</td>\n",
       "      <td>110</td>\n",
       "      <td>[u'Jeff Bridges', u'Matt Damon', u'Hailee Stei...</td>\n",
       "    </tr>\n",
       "    <tr>\n",
       "      <th>662</th>\n",
       "      <td>7.7</td>\n",
       "      <td>True Grit</td>\n",
       "      <td>PG-13</td>\n",
       "      <td>Adventure</td>\n",
       "      <td>110</td>\n",
       "      <td>[u'Jeff Bridges', u'Matt Damon', u'Hailee Stei...</td>\n",
       "      <td>7.7</td>\n",
       "      <td>PG-13</td>\n",
       "      <td>Adventure</td>\n",
       "      <td>110</td>\n",
       "      <td>[u'Jeff Bridges', u'Matt Damon', u'Hailee Stei...</td>\n",
       "    </tr>\n",
       "    <tr>\n",
       "      <th>905</th>\n",
       "      <td>7.5</td>\n",
       "      <td>Dracula</td>\n",
       "      <td>R</td>\n",
       "      <td>Horror</td>\n",
       "      <td>128</td>\n",
       "      <td>[u'Gary Oldman', u'Winona Ryder', u'Anthony Ho...</td>\n",
       "      <td>7.6</td>\n",
       "      <td>APPROVED</td>\n",
       "      <td>Horror</td>\n",
       "      <td>85</td>\n",
       "      <td>[u'Bela Lugosi', u'Helen Chandler', u'David Ma...</td>\n",
       "    </tr>\n",
       "    <tr>\n",
       "      <th>703</th>\n",
       "      <td>7.6</td>\n",
       "      <td>Dracula</td>\n",
       "      <td>APPROVED</td>\n",
       "      <td>Horror</td>\n",
       "      <td>85</td>\n",
       "      <td>[u'Bela Lugosi', u'Helen Chandler', u'David Ma...</td>\n",
       "      <td>7.6</td>\n",
       "      <td>APPROVED</td>\n",
       "      <td>Horror</td>\n",
       "      <td>85</td>\n",
       "      <td>[u'Bela Lugosi', u'Helen Chandler', u'David Ma...</td>\n",
       "    </tr>\n",
       "  </tbody>\n",
       "</table>\n",
       "</div>"
      ],
      "text/plain": [
       "     star_rating_movies                            title  \\\n",
       "678                 7.7                   Les Miserables   \n",
       "924                 7.5                   Les Miserables   \n",
       "466                 7.9  The Girl with the Dragon Tattoo   \n",
       "482                 7.8  The Girl with the Dragon Tattoo   \n",
       "936                 7.4                        True Grit   \n",
       "662                 7.7                        True Grit   \n",
       "905                 7.5                          Dracula   \n",
       "703                 7.6                          Dracula   \n",
       "\n",
       "    content_rating_movies genre_movies  duration_movies  \\\n",
       "678                 PG-13        Drama              158   \n",
       "924                 PG-13        Crime              134   \n",
       "466                     R        Crime              158   \n",
       "482                     R        Crime              152   \n",
       "936                   NaN    Adventure              128   \n",
       "662                 PG-13    Adventure              110   \n",
       "905                     R       Horror              128   \n",
       "703              APPROVED       Horror               85   \n",
       "\n",
       "                                    actors_list_movies  star_rating_dupl  \\\n",
       "678  [u'Hugh Jackman', u'Russell Crowe', u'Anne Hat...               7.5   \n",
       "924  [u'Liam Neeson', u'Geoffrey Rush', u'Uma Thurm...               7.5   \n",
       "466  [u'Daniel Craig', u'Rooney Mara', u'Christophe...               7.8   \n",
       "482  [u'Michael Nyqvist', u'Noomi Rapace', u'Ewa Fr...               7.8   \n",
       "936    [u'John Wayne', u'Kim Darby', u'Glen Campbell']               7.7   \n",
       "662  [u'Jeff Bridges', u'Matt Damon', u'Hailee Stei...               7.7   \n",
       "905  [u'Gary Oldman', u'Winona Ryder', u'Anthony Ho...               7.6   \n",
       "703  [u'Bela Lugosi', u'Helen Chandler', u'David Ma...               7.6   \n",
       "\n",
       "    content_rating_dupl genre_dupl  duration_dupl  \\\n",
       "678               PG-13      Crime            134   \n",
       "924               PG-13      Crime            134   \n",
       "466                   R      Crime            152   \n",
       "482                   R      Crime            152   \n",
       "936               PG-13  Adventure            110   \n",
       "662               PG-13  Adventure            110   \n",
       "905            APPROVED     Horror             85   \n",
       "703            APPROVED     Horror             85   \n",
       "\n",
       "                                      actors_list_dupl  \n",
       "678  [u'Liam Neeson', u'Geoffrey Rush', u'Uma Thurm...  \n",
       "924  [u'Liam Neeson', u'Geoffrey Rush', u'Uma Thurm...  \n",
       "466  [u'Michael Nyqvist', u'Noomi Rapace', u'Ewa Fr...  \n",
       "482  [u'Michael Nyqvist', u'Noomi Rapace', u'Ewa Fr...  \n",
       "936  [u'Jeff Bridges', u'Matt Damon', u'Hailee Stei...  \n",
       "662  [u'Jeff Bridges', u'Matt Damon', u'Hailee Stei...  \n",
       "905  [u'Bela Lugosi', u'Helen Chandler', u'David Ma...  \n",
       "703  [u'Bela Lugosi', u'Helen Chandler', u'David Ma...  "
      ]
     },
     "execution_count": 66,
     "metadata": {},
     "output_type": "execute_result"
    }
   ],
   "source": [
    "# Answer:\n",
    "#this gives the unique list of all the duplicated titles\n",
    "duple_title = movies[movies.title.duplicated()]\n",
    "#we create the title as index for this lookup data frame\n",
    "duple_title.set_index ('title', inplace=True)\n",
    "#we will join this lookup data frame with the movies data frame to create a new data frame which will list\n",
    "#the list of movies including the duplicates\n",
    "duplicate_movie_title = movies.join(duple_title, on='title', how='right', lsuffix=\"_movies\",rsuffix='_dupl')\n",
    "duplicate_movie_title\n"
   ]
  },
  {
   "cell_type": "markdown",
   "metadata": {
    "collapsed": true
   },
   "source": [
    "#### Calculate the average star rating for each genre, but only include genres with at least 10 movies\n"
   ]
  },
  {
   "cell_type": "markdown",
   "metadata": {},
   "source": [
    "#### Option 1: manually create a list of relevant genres, then filter using that list"
   ]
  },
  {
   "cell_type": "code",
   "execution_count": 67,
   "metadata": {},
   "outputs": [
    {
     "name": "stdout",
     "output_type": "stream",
     "text": [
      "Drama        278\n",
      "Comedy       156\n",
      "Action       136\n",
      "Crime        124\n",
      "Biography     77\n",
      "Adventure     75\n",
      "Animation     62\n",
      "Horror        29\n",
      "Mystery       16\n",
      "Western        9\n",
      "Thriller       5\n",
      "Sci-Fi         5\n",
      "Film-Noir      3\n",
      "Family         2\n",
      "History        1\n",
      "Fantasy        1\n",
      "Name: genre, dtype: int64\n"
     ]
    },
    {
     "data": {
      "text/plain": [
       "genre\n",
       "Action       7.884559\n",
       "Adventure    7.933333\n",
       "Animation    7.914516\n",
       "Biography    7.862338\n",
       "Comedy       7.822436\n",
       "Crime        7.916935\n",
       "Drama        7.902518\n",
       "Horror       7.806897\n",
       "Mystery      7.975000\n",
       "Name: star_rating, dtype: float64"
      ]
     },
     "execution_count": 67,
     "metadata": {},
     "output_type": "execute_result"
    }
   ],
   "source": [
    "# Answer:\n",
    "print(movies.loc[:,'genre'].value_counts())\n",
    "\n",
    "filter_genre = movies.loc[:,'genre'].isin(['Drama','Comedy','Action','Crime','Biography','Adventure','Animation','Horror','Mystery'])\n",
    "\n",
    "movies.loc[filter_genre,:].groupby('genre')['star_rating'].mean()\n",
    "\n"
   ]
  },
  {
   "cell_type": "markdown",
   "metadata": {},
   "source": [
    "#### Option 2: automatically create a list of relevant genres by saving the value_counts and then filtering"
   ]
  },
  {
   "cell_type": "code",
   "execution_count": 68,
   "metadata": {},
   "outputs": [
    {
     "data": {
      "text/plain": [
       "genre\n",
       "Action       7.884559\n",
       "Adventure    7.933333\n",
       "Animation    7.914516\n",
       "Biography    7.862338\n",
       "Comedy       7.822436\n",
       "Crime        7.916935\n",
       "Drama        7.902518\n",
       "Horror       7.806897\n",
       "Mystery      7.975000\n",
       "Name: star_rating, dtype: float64"
      ]
     },
     "execution_count": 68,
     "metadata": {},
     "output_type": "execute_result"
    }
   ],
   "source": [
    "# Answer:\n",
    "sf = movies.loc[:,'genre'].value_counts()\n",
    "movie_counts = pd.DataFrame({'genre_':sf.index, 'counts_':sf.values})\n",
    "movie_counts.set_index('genre_',inplace=True)\n",
    "movie_counts\n",
    "\n",
    "movies_merged = movies.join(movie_counts,on='genre', how='right')\n",
    "movies_merged.loc[movies_merged.loc[:,'counts_'] > 10,:].groupby('genre')['star_rating'].mean()"
   ]
  },
  {
   "cell_type": "markdown",
   "metadata": {},
   "source": [
    "#### Option 3: calculate the average star rating for all genres, then filter using a boolean Series"
   ]
  },
  {
   "cell_type": "code",
   "execution_count": 69,
   "metadata": {},
   "outputs": [
    {
     "data": {
      "text/plain": [
       "genre\n",
       "Action       7.884559\n",
       "Adventure    7.933333\n",
       "Animation    7.914516\n",
       "Biography    7.862338\n",
       "Comedy       7.822436\n",
       "Crime        7.916935\n",
       "Drama        7.902518\n",
       "Horror       7.806897\n",
       "Mystery      7.975000\n",
       "Name: mean, dtype: float64"
      ]
     },
     "execution_count": 69,
     "metadata": {},
     "output_type": "execute_result"
    }
   ],
   "source": [
    "# Answer:\n",
    "new_df=movies.loc[:,['genre','star_rating']].groupby('genre').describe()\n",
    "new_df_count = new_df.loc[:,['star_rating'][0]].loc[:,'count'] > 10\n",
    "new_df.loc[new_df_count,['star_rating'][0]].loc[:,'mean']"
   ]
  },
  {
   "cell_type": "markdown",
   "metadata": {},
   "source": [
    "#### Option 4: aggregate by count and mean, then filter using the count"
   ]
  },
  {
   "cell_type": "code",
   "execution_count": 70,
   "metadata": {},
   "outputs": [
    {
     "data": {
      "text/plain": [
       "genre\n",
       "Action       7.884559\n",
       "Adventure    7.933333\n",
       "Animation    7.914516\n",
       "Biography    7.862338\n",
       "Comedy       7.822436\n",
       "Crime        7.916935\n",
       "Drama        7.902518\n",
       "Horror       7.806897\n",
       "Mystery      7.975000\n",
       "Name: mean, dtype: float64"
      ]
     },
     "execution_count": 70,
     "metadata": {},
     "output_type": "execute_result"
    }
   ],
   "source": [
    "# Answer:\n",
    "filter_genre4 = movies.groupby('genre')['star_rating'].agg(['count','mean'])\n",
    "filter_genre4.loc[filter_genre4.loc[:,'count'] > 10,'mean']"
   ]
  },
  {
   "cell_type": "markdown",
   "metadata": {},
   "source": [
    "## Bonus"
   ]
  },
  {
   "cell_type": "markdown",
   "metadata": {
    "collapsed": true
   },
   "source": [
    "#### Figure out something \"interesting\" using the actors data!"
   ]
  },
  {
   "cell_type": "code",
   "execution_count": 72,
   "metadata": {},
   "outputs": [
    {
     "name": "stdout",
     "output_type": "stream",
     "text": [
      "count                                                   979\n",
      "unique                                                  969\n",
      "top       [u'Daniel Radcliffe', u'Emma Watson', u'Rupert...\n",
      "freq                                                      6\n",
      "Name: actors_list, dtype: object\n",
      "[u'Daniel Radcliffe', u'Emma Watson', u'Rupert Grint']                6\n",
      "[u'Mark Hamill', u'Harrison Ford', u'Carrie Fisher']                  3\n",
      "[u'Ian McKellen', u'Martin Freeman', u'Richard Armitage']             2\n",
      "[u'Tom Hanks', u'Tim Allen', u'Joan Cusack']                          2\n",
      "[u'Michael J. Fox', u'Christopher Lloyd', u'Lea Thompson']            2\n",
      "[u'Jeremy Theobald', u'Alex Haw', u'Lucy Russell']                    1\n",
      "[u'Leslie Nielsen', u'Priscilla Presley', u'O.J. Simpson']            1\n",
      "[u'Johnny Depp', u'Pen\\xe9lope Cruz', u'Franka Potente']              1\n",
      "[u'Owen Wilson', u'Rachel McAdams', u'Kathy Bates']                   1\n",
      "[u'Al Pacino', u'Jack Lemmon', u'Alec Baldwin']                       1\n",
      "[u'Marion Cotillard', u'Sylvie Testud', u'Pascal Greggory']           1\n",
      "[u'Jake Gyllenhaal', u'Jena Malone', u'Mary McDonnell']               1\n",
      "[u'Michael Beck', u'James Remar', u'Dorsey Wright']                   1\n",
      "[u'Sumi Shimamoto', u'Mahito Tsujimura', u'Hisako Ky\\xf4da']          1\n",
      "[u'Fran\\xe7ois Cluzet', u'Omar Sy', u'Anne Le Ny']                    1\n",
      "[u'Elijah Wood', u'Eugene Hutz', u'Boris Leskin']                     1\n",
      "[u'Roy Scheider', u'Robert Shaw', u'Richard Dreyfuss']                1\n",
      "[u'Yul Brynner', u'Steve McQueen', u'Charles Bronson']                1\n",
      "[u'James Stewart', u'Josephine Hull', u'Peggy Dow']                   1\n",
      "[u'Philip Seymour Hoffman', u'Bill Nighy', u'Nick Frost']             1\n",
      "[u'Clint Eastwood', u'Telly Savalas', u'Don Rickles']                 1\n",
      "[u'Hugh Jackman', u'Jake Gyllenhaal', u'Viola Davis']                 1\n",
      "[u'Cary Grant', u'Priscilla Lane', u'Raymond Massey']                 1\n",
      "[u'Bin Won', u'Sae-ron Kim', u'Tae-hoon Kim']                         1\n",
      "[u'James Stewart', u'Lee Remick', u'Ben Gazzara']                     1\n",
      "[u'Graham Chapman', u'John Cleese', u'Michael Palin']                 1\n",
      "[u'Anthony Hopkins', u'John Hurt', u'Anne Bancroft']                  1\n",
      "[u'James Mason', u'Shelley Winters', u'Sue Lyon']                     1\n",
      "[u'Tommy Lee Jones', u'Barry Pepper', u'Dwight Yoakam']               1\n",
      "[u'Jessica Harper', u'Stefania Casini', u'Flavio Bucci']              1\n",
      "                                                                     ..\n",
      "[u'Tom Cruise', u'Jack Nicholson', u'Demi Moore']                     1\n",
      "[u'Jake Gyllenhaal', u'Chris Cooper', u'Laura Dern']                  1\n",
      "[u'Boris Karloff', u'Elsa Lanchester', u'Colin Clive']                1\n",
      "[u'Guy Pearce', u'Carrie-Anne Moss', u'Joe Pantoliano']               1\n",
      "[u'Will Smith', u'Rosario Dawson', u'Woody Harrelson']                1\n",
      "[u'Tobey Maguire', u'Charlize Theron', u'Michael Caine']              1\n",
      "[u'Pam Grier', u'Samuel L. Jackson', u'Robert Forster']               1\n",
      "[u'Denzel Washington', u'Russell Crowe', u'Chiwetel Ejiofor']         1\n",
      "[u'Al Pacino', u'Johnny Depp', u'Michael Madsen']                     1\n",
      "[u\"Brian O'Halloran\", u'Jeff Anderson', u'Marilyn Ghigliotti']        1\n",
      "[u'Christian Bale', u'Heath Ledger', u'Aaron Eckhart']                1\n",
      "[u'Charlton Heston', u'Jack Hawkins', u'Stephen Boyd']                1\n",
      "[u'Steve McQueen', u'Jacqueline Bisset', u'Robert Vaughn']            1\n",
      "[u'Marcello Mastroianni', u'Anouk Aim\\xe9e', u'Claudia Cardinale']    1\n",
      "[u'Tom Hanks', u'Denzel Washington', u'Roberta Maxwell']              1\n",
      "[u'Denzel Washington', u'Christopher Walken', u'Dakota Fanning']      1\n",
      "[u'Ryan Potter', u'Scott Adsit', u'Jamie Chung']                      1\n",
      "[u'Michael Douglas', u'Benicio Del Toro', u'Catherine Zeta-Jones']    1\n",
      "[u'Clint Eastwood', u'Patrick McGoohan', u'Roberts Blossom']          1\n",
      "[u'Mickey Rourke', u'Clive Owen', u'Bruce Willis']                    1\n",
      "[u'Tyrin Turner', u'Larenz Tate', u'June Kyoto Lu']                   1\n",
      "[u'Mike Myers', u'Eddie Murphy', u'Cameron Diaz']                     1\n",
      "[u'Kevin Costner', u'Gary Oldman', u'Jack Lemmon']                    1\n",
      "[u'Tom Hanks', u'Barkhad Abdi', u'Barkhad Abdirahman']                1\n",
      "[u'Denzel Washington', u'Clive Owen', u'Jodie Foster']                1\n",
      "[u'Christian Bale', u'Justin Theroux', u'Josh Lucas']                 1\n",
      "[u'Colm Meaney', u'Henry Goodman', u'David Roper']                    1\n",
      "[u'Jennifer Tilly', u'Gina Gershon', u'Joe Pantoliano']               1\n",
      "[u'Tom Hanks', u'Michael Clarke Duncan', u'David Morse']              1\n",
      "[u'Jean-Pierre L\\xe9aud', u'Albert R\\xe9my', u'Claire Maurier']       1\n",
      "Name: actors_list, Length: 969, dtype: int64\n"
     ]
    }
   ],
   "source": [
    "print(movies.loc[:,'actors_list'].describe())#unique set is less than total. The actors worked together in more than one movie\n",
    "print(movies.loc[:,'actors_list'].value_counts()) #the combinationof actors worked in sequels of the same movie or in different movies"
   ]
  },
  {
   "cell_type": "markdown",
   "metadata": {},
   "source": [
    "Observation:\n",
    "- unique set is less than total. The actors worked together in more than one movie\n",
    "- the same combination of actors worked in sequels of the same movie or in different movies"
   ]
  }
 ],
 "metadata": {
  "kernelspec": {
   "display_name": "Python 3",
   "language": "python",
   "name": "python3"
  },
  "language_info": {
   "codemirror_mode": {
    "name": "ipython",
    "version": 3
   },
   "file_extension": ".py",
   "mimetype": "text/x-python",
   "name": "python",
   "nbconvert_exporter": "python",
   "pygments_lexer": "ipython3",
   "version": "3.6.5"
  }
 },
 "nbformat": 4,
 "nbformat_minor": 1
}
